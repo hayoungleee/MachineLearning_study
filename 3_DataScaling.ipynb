{
 "cells": [
  {
   "cell_type": "code",
   "execution_count": 3,
   "metadata": {},
   "outputs": [],
   "source": [
    "from sklearn.preprocessing import StandardScaler\n",
    "from sklearn.preprocessing import MinMaxScaler\n",
    "from sklearn.preprocessing import MaxAbsScaler\n",
    "from sklearn.preprocessing import RobustScaler\n",
    "import numpy as np\n",
    "import pandas as pd\n",
    "\n",
    "data = { 'x1': [13,np.nan,17,20,22,21,11,56,999,64],\n",
    "        'x2': [9,555,17,11,np.nan,10,17,777,22,34],\n",
    "       'y': [20,np.nan,30,27,np.nan,32,17,20,22,899]}\n",
    "df = pd.DataFrame(data)\n",
    "df_0 = df.fillna(0)"
   ]
  },
  {
   "cell_type": "code",
   "execution_count": 13,
   "metadata": {},
   "outputs": [
    {
     "name": "stdout",
     "output_type": "stream",
     "text": [
      "         x1        x2         y\n",
      "0 -0.373239 -0.513526 -0.328029\n",
      "1 -0.417631  1.545103 -0.403698\n",
      "2 -0.359580 -0.483363 -0.290194\n",
      "3 -0.349335 -0.505985 -0.301544\n",
      "4 -0.342506 -0.547459 -0.403698\n",
      "5 -0.345920 -0.509756 -0.282627\n",
      "6 -0.380068 -0.483363 -0.339379\n",
      "7 -0.226402  2.382127 -0.328029\n",
      "8  2.993765 -0.464511 -0.320462\n",
      "9 -0.199083 -0.419266  2.997659\n"
     ]
    }
   ],
   "source": [
    "# 평균과 표준편차를 \n",
    "scaler = StandardScaler()\n",
    "scaler.fit(df_0)\n",
    "X_train_1 = scaler.transform(df_0)\n",
    "print(pd.DataFrame(X_train_1,columns=['x1','x2','y']))"
   ]
  },
  {
   "cell_type": "code",
   "execution_count": 14,
   "metadata": {},
   "outputs": [
    {
     "name": "stdout",
     "output_type": "stream",
     "text": [
      "         x1        x2         y\n",
      "0  0.013013  0.011583  0.022247\n",
      "1  0.000000  0.714286  0.000000\n",
      "2  0.017017  0.021879  0.033370\n",
      "3  0.020020  0.014157  0.030033\n",
      "4  0.022022  0.000000  0.000000\n",
      "5  0.021021  0.012870  0.035595\n",
      "6  0.011011  0.021879  0.018910\n",
      "7  0.056056  1.000000  0.022247\n",
      "8  1.000000  0.028314  0.024472\n",
      "9  0.064064  0.043758  1.000000\n"
     ]
    }
   ],
   "source": [
    "# 0과 1을 \n",
    "scaler = MinMaxScaler()\n",
    "scaler.fit(df_0)\n",
    "X_train_2 = scaler.transform(df_0)\n",
    "print(pd.DataFrame(X_train_2,columns=['x1','x2','y']))"
   ]
  },
  {
   "cell_type": "code",
   "execution_count": 15,
   "metadata": {},
   "outputs": [
    {
     "name": "stdout",
     "output_type": "stream",
     "text": [
      "         x1        x2         y\n",
      "0  0.013013  0.011583  0.022247\n",
      "1  0.000000  0.714286  0.000000\n",
      "2  0.017017  0.021879  0.033370\n",
      "3  0.020020  0.014157  0.030033\n",
      "4  0.022022  0.000000  0.000000\n",
      "5  0.021021  0.012870  0.035595\n",
      "6  0.011011  0.021879  0.018910\n",
      "7  0.056056  1.000000  0.022247\n",
      "8  1.000000  0.028314  0.024472\n",
      "9  0.064064  0.043758  1.000000\n"
     ]
    }
   ],
   "source": [
    "#최대/최소 값이 각각 1,0 으로\n",
    "scaler = MaxAbsScaler()\n",
    "scaler.fit(df_0)\n",
    "X_train_3 = scaler.transform(df_0)\n",
    "print(pd.DataFrame(X_train_3,columns=['x1','x2','y']))"
   ]
  },
  {
   "cell_type": "code",
   "execution_count": 16,
   "metadata": {},
   "outputs": [
    {
     "name": "stdout",
     "output_type": "stream",
     "text": [
      "          x1         x2          y\n",
      "0  -0.223881  -0.385542  -0.086957\n",
      "1  -0.611940  25.927711  -1.826087\n",
      "2  -0.104478   0.000000   0.782609\n",
      "3  -0.014925  -0.289157   0.521739\n",
      "4   0.044776  -0.819277  -1.826087\n",
      "5   0.014925  -0.337349   0.956522\n",
      "6  -0.283582   0.000000  -0.347826\n",
      "7   1.059701  36.626506  -0.086957\n",
      "8  29.208955   0.240964   0.086957\n",
      "9   1.298507   0.819277  76.347826\n"
     ]
    }
   ],
   "source": [
    "# 중앙값과 iqr 사용\n",
    "scaler = RobustScaler()\n",
    "scaler.fit(df_0)\n",
    "X_train_4 = scaler.transform(df_0)\n",
    "print(pd.DataFrame(X_train_4,columns=['x1','x2','y']))"
   ]
  },
  {
   "cell_type": "code",
   "execution_count": 19,
   "metadata": {},
   "outputs": [
    {
     "data": {
      "text/plain": [
       "array([[1.   ],\n",
       "       [0.875],\n",
       "       [0.75 ],\n",
       "       [0.5  ],\n",
       "       [0.   ]])"
      ]
     },
     "execution_count": 19,
     "metadata": {},
     "output_type": "execute_result"
    }
   ],
   "source": [
    "a = [[10],[9],[8],[6],[2]]\n",
    "scaler = MinMaxScaler()\n",
    "a = scaler.fit_transform(a)\n",
    "a"
   ]
  }
 ],
 "metadata": {
  "kernelspec": {
   "display_name": "Python [conda env:env-da] *",
   "language": "python",
   "name": "conda-env-env-da-py"
  },
  "language_info": {
   "codemirror_mode": {
    "name": "ipython",
    "version": 3
   },
   "file_extension": ".py",
   "mimetype": "text/x-python",
   "name": "python",
   "nbconvert_exporter": "python",
   "pygments_lexer": "ipython3",
   "version": "3.7.7"
  }
 },
 "nbformat": 4,
 "nbformat_minor": 4
}
